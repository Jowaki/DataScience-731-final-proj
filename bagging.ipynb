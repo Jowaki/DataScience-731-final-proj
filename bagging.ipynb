{
 "cells": [
  {
   "cell_type": "markdown",
   "id": "73ea6b56",
   "metadata": {},
   "source": [
    "### Part 1: Basic, no geography tree"
   ]
  },
  {
   "cell_type": "code",
   "execution_count": null,
   "id": "3945709f",
   "metadata": {},
   "outputs": [],
   "source": [
    "# imports\n",
    "import pandas as pd\n"
   ]
  },
  {
   "cell_type": "code",
   "execution_count": 79,
   "id": "cad55846",
   "metadata": {},
   "outputs": [],
   "source": [
    "# getting the data\n",
    "data_ng = pd.read_csv(r\"C:\\Users\\Evan\\Desktop\\_data\\prepro_data.csv\")"
   ]
  },
  {
   "cell_type": "code",
   "execution_count": 80,
   "id": "38b43f81",
   "metadata": {},
   "outputs": [
    {
     "data": {
      "text/plain": [
       "pandas.core.frame.DataFrame"
      ]
     },
     "execution_count": 80,
     "metadata": {},
     "output_type": "execute_result"
    }
   ],
   "source": [
    "type(data_ng)"
   ]
  },
  {
   "cell_type": "code",
   "execution_count": 81,
   "id": "d3af6f1b",
   "metadata": {},
   "outputs": [
    {
     "data": {
      "text/html": [
       "<div>\n",
       "<style scoped>\n",
       "    .dataframe tbody tr th:only-of-type {\n",
       "        vertical-align: middle;\n",
       "    }\n",
       "\n",
       "    .dataframe tbody tr th {\n",
       "        vertical-align: top;\n",
       "    }\n",
       "\n",
       "    .dataframe thead th {\n",
       "        text-align: right;\n",
       "    }\n",
       "</style>\n",
       "<table border=\"1\" class=\"dataframe\">\n",
       "  <thead>\n",
       "    <tr style=\"text-align: right;\">\n",
       "      <th></th>\n",
       "      <th>case_month</th>\n",
       "      <th>state_fips_code</th>\n",
       "      <th>county_fips_code</th>\n",
       "      <th>age_group</th>\n",
       "      <th>sex</th>\n",
       "      <th>race</th>\n",
       "      <th>case_onset_interval</th>\n",
       "      <th>exposure_yn</th>\n",
       "      <th>current_status</th>\n",
       "      <th>symptom_status</th>\n",
       "      <th>hosp_yn</th>\n",
       "      <th>icu_yn</th>\n",
       "      <th>death_yn</th>\n",
       "      <th>case_positive_specimen</th>\n",
       "      <th>underlying_conditions_yn</th>\n",
       "    </tr>\n",
       "  </thead>\n",
       "  <tbody>\n",
       "    <tr>\n",
       "      <th>0</th>\n",
       "      <td>2020-10</td>\n",
       "      <td>49</td>\n",
       "      <td>49035.0</td>\n",
       "      <td>2</td>\n",
       "      <td>1</td>\n",
       "      <td>5</td>\n",
       "      <td>0</td>\n",
       "      <td>1</td>\n",
       "      <td>1</td>\n",
       "      <td>1</td>\n",
       "      <td>0</td>\n",
       "      <td>0</td>\n",
       "      <td>0</td>\n",
       "      <td>0</td>\n",
       "      <td>1</td>\n",
       "    </tr>\n",
       "    <tr>\n",
       "      <th>1</th>\n",
       "      <td>2021-01</td>\n",
       "      <td>49</td>\n",
       "      <td>49057.0</td>\n",
       "      <td>1</td>\n",
       "      <td>1</td>\n",
       "      <td>5</td>\n",
       "      <td>0</td>\n",
       "      <td>1</td>\n",
       "      <td>1</td>\n",
       "      <td>1</td>\n",
       "      <td>0</td>\n",
       "      <td>0</td>\n",
       "      <td>0</td>\n",
       "      <td>0</td>\n",
       "      <td>1</td>\n",
       "    </tr>\n",
       "    <tr>\n",
       "      <th>2</th>\n",
       "      <td>2021-02</td>\n",
       "      <td>22</td>\n",
       "      <td>22009.0</td>\n",
       "      <td>2</td>\n",
       "      <td>1</td>\n",
       "      <td>5</td>\n",
       "      <td>0</td>\n",
       "      <td>1</td>\n",
       "      <td>0</td>\n",
       "      <td>1</td>\n",
       "      <td>0</td>\n",
       "      <td>-1</td>\n",
       "      <td>-2</td>\n",
       "      <td>0</td>\n",
       "      <td>1</td>\n",
       "    </tr>\n",
       "    <tr>\n",
       "      <th>3</th>\n",
       "      <td>2020-11</td>\n",
       "      <td>42</td>\n",
       "      <td>42025.0</td>\n",
       "      <td>1</td>\n",
       "      <td>1</td>\n",
       "      <td>5</td>\n",
       "      <td>0</td>\n",
       "      <td>1</td>\n",
       "      <td>1</td>\n",
       "      <td>1</td>\n",
       "      <td>0</td>\n",
       "      <td>0</td>\n",
       "      <td>-3</td>\n",
       "      <td>0</td>\n",
       "      <td>1</td>\n",
       "    </tr>\n",
       "    <tr>\n",
       "      <th>4</th>\n",
       "      <td>2020-07</td>\n",
       "      <td>42</td>\n",
       "      <td>42003.0</td>\n",
       "      <td>1</td>\n",
       "      <td>1</td>\n",
       "      <td>2</td>\n",
       "      <td>0</td>\n",
       "      <td>1</td>\n",
       "      <td>1</td>\n",
       "      <td>1</td>\n",
       "      <td>0</td>\n",
       "      <td>0</td>\n",
       "      <td>0</td>\n",
       "      <td>1</td>\n",
       "      <td>1</td>\n",
       "    </tr>\n",
       "  </tbody>\n",
       "</table>\n",
       "</div>"
      ],
      "text/plain": [
       "  case_month  state_fips_code  county_fips_code  age_group  sex  race  \\\n",
       "0    2020-10               49           49035.0          2    1     5   \n",
       "1    2021-01               49           49057.0          1    1     5   \n",
       "2    2021-02               22           22009.0          2    1     5   \n",
       "3    2020-11               42           42025.0          1    1     5   \n",
       "4    2020-07               42           42003.0          1    1     2   \n",
       "\n",
       "   case_onset_interval  exposure_yn  current_status  symptom_status  hosp_yn  \\\n",
       "0                    0            1               1               1        0   \n",
       "1                    0            1               1               1        0   \n",
       "2                    0            1               0               1        0   \n",
       "3                    0            1               1               1        0   \n",
       "4                    0            1               1               1        0   \n",
       "\n",
       "   icu_yn  death_yn  case_positive_specimen  underlying_conditions_yn  \n",
       "0       0         0                       0                         1  \n",
       "1       0         0                       0                         1  \n",
       "2      -1        -2                       0                         1  \n",
       "3       0        -3                       0                         1  \n",
       "4       0         0                       1                         1  "
      ]
     },
     "execution_count": 81,
     "metadata": {},
     "output_type": "execute_result"
    }
   ],
   "source": [
    "data_ng.head()"
   ]
  },
  {
   "cell_type": "code",
   "execution_count": 82,
   "id": "6d1edb82",
   "metadata": {},
   "outputs": [],
   "source": [
    "# for preliminary reasons, I will drop date, county/area info, and icu/death info\n",
    "data_ng.drop(['case_month','state_fips_code','county_fips_code','icu_yn','death_yn'], axis = 1, inplace = True)"
   ]
  },
  {
   "cell_type": "code",
   "execution_count": 83,
   "id": "30296995",
   "metadata": {},
   "outputs": [
    {
     "data": {
      "text/html": [
       "<div>\n",
       "<style scoped>\n",
       "    .dataframe tbody tr th:only-of-type {\n",
       "        vertical-align: middle;\n",
       "    }\n",
       "\n",
       "    .dataframe tbody tr th {\n",
       "        vertical-align: top;\n",
       "    }\n",
       "\n",
       "    .dataframe thead th {\n",
       "        text-align: right;\n",
       "    }\n",
       "</style>\n",
       "<table border=\"1\" class=\"dataframe\">\n",
       "  <thead>\n",
       "    <tr style=\"text-align: right;\">\n",
       "      <th></th>\n",
       "      <th>age_group</th>\n",
       "      <th>sex</th>\n",
       "      <th>race</th>\n",
       "      <th>case_onset_interval</th>\n",
       "      <th>exposure_yn</th>\n",
       "      <th>current_status</th>\n",
       "      <th>symptom_status</th>\n",
       "      <th>hosp_yn</th>\n",
       "      <th>case_positive_specimen</th>\n",
       "      <th>underlying_conditions_yn</th>\n",
       "    </tr>\n",
       "  </thead>\n",
       "  <tbody>\n",
       "    <tr>\n",
       "      <th>0</th>\n",
       "      <td>2</td>\n",
       "      <td>1</td>\n",
       "      <td>5</td>\n",
       "      <td>0</td>\n",
       "      <td>1</td>\n",
       "      <td>1</td>\n",
       "      <td>1</td>\n",
       "      <td>0</td>\n",
       "      <td>0</td>\n",
       "      <td>1</td>\n",
       "    </tr>\n",
       "    <tr>\n",
       "      <th>1</th>\n",
       "      <td>1</td>\n",
       "      <td>1</td>\n",
       "      <td>5</td>\n",
       "      <td>0</td>\n",
       "      <td>1</td>\n",
       "      <td>1</td>\n",
       "      <td>1</td>\n",
       "      <td>0</td>\n",
       "      <td>0</td>\n",
       "      <td>1</td>\n",
       "    </tr>\n",
       "    <tr>\n",
       "      <th>2</th>\n",
       "      <td>2</td>\n",
       "      <td>1</td>\n",
       "      <td>5</td>\n",
       "      <td>0</td>\n",
       "      <td>1</td>\n",
       "      <td>0</td>\n",
       "      <td>1</td>\n",
       "      <td>0</td>\n",
       "      <td>0</td>\n",
       "      <td>1</td>\n",
       "    </tr>\n",
       "    <tr>\n",
       "      <th>3</th>\n",
       "      <td>1</td>\n",
       "      <td>1</td>\n",
       "      <td>5</td>\n",
       "      <td>0</td>\n",
       "      <td>1</td>\n",
       "      <td>1</td>\n",
       "      <td>1</td>\n",
       "      <td>0</td>\n",
       "      <td>0</td>\n",
       "      <td>1</td>\n",
       "    </tr>\n",
       "    <tr>\n",
       "      <th>4</th>\n",
       "      <td>1</td>\n",
       "      <td>1</td>\n",
       "      <td>2</td>\n",
       "      <td>0</td>\n",
       "      <td>1</td>\n",
       "      <td>1</td>\n",
       "      <td>1</td>\n",
       "      <td>0</td>\n",
       "      <td>1</td>\n",
       "      <td>1</td>\n",
       "    </tr>\n",
       "  </tbody>\n",
       "</table>\n",
       "</div>"
      ],
      "text/plain": [
       "   age_group  sex  race  case_onset_interval  exposure_yn  current_status  \\\n",
       "0          2    1     5                    0            1               1   \n",
       "1          1    1     5                    0            1               1   \n",
       "2          2    1     5                    0            1               0   \n",
       "3          1    1     5                    0            1               1   \n",
       "4          1    1     2                    0            1               1   \n",
       "\n",
       "   symptom_status  hosp_yn  case_positive_specimen  underlying_conditions_yn  \n",
       "0               1        0                       0                         1  \n",
       "1               1        0                       0                         1  \n",
       "2               1        0                       0                         1  \n",
       "3               1        0                       0                         1  \n",
       "4               1        0                       1                         1  "
      ]
     },
     "execution_count": 83,
     "metadata": {},
     "output_type": "execute_result"
    }
   ],
   "source": [
    "data_ng.head()"
   ]
  },
  {
   "cell_type": "code",
   "execution_count": 84,
   "id": "d46bbf72",
   "metadata": {},
   "outputs": [
    {
     "data": {
      "text/plain": [
       "(123111, 10)"
      ]
     },
     "execution_count": 84,
     "metadata": {},
     "output_type": "execute_result"
    }
   ],
   "source": [
    "data_ng.shape"
   ]
  },
  {
   "cell_type": "code",
   "execution_count": 85,
   "id": "16adae78",
   "metadata": {},
   "outputs": [],
   "source": [
    "# dropping unkown and missing hosp data - where hosp = -1 or -2\n",
    "data_ng.drop(data_ng[(data_ng['hosp_yn'] == -1) | (data_ng['hosp_yn'] == -2)].index, inplace = True)"
   ]
  },
  {
   "cell_type": "code",
   "execution_count": 86,
   "id": "ca792b32",
   "metadata": {},
   "outputs": [
    {
     "data": {
      "text/plain": [
       "(113754, 10)"
      ]
     },
     "execution_count": 86,
     "metadata": {},
     "output_type": "execute_result"
    }
   ],
   "source": [
    "data_ng.shape"
   ]
  },
  {
   "cell_type": "code",
   "execution_count": 87,
   "id": "e922c3d2",
   "metadata": {},
   "outputs": [],
   "source": [
    "# now that all of hosp_yn is 1 or 0, I will do a prelim. tree model \n",
    "import numpy as np\n",
    "from sklearn.tree import DecisionTreeClassifier\n",
    "from sklearn.model_selection import train_test_split\n",
    "\n",
    "# select X data\n",
    "X = np.array( data_ng.drop(['hosp_yn'],axis = 1, inplace = False) )\n",
    "y = np.array (data_ng['hosp_yn'] )"
   ]
  },
  {
   "cell_type": "code",
   "execution_count": 88,
   "id": "24975a62",
   "metadata": {},
   "outputs": [],
   "source": [
    "# now split the data \n",
    "X_train, X_test, y_train, y_test = train_test_split(X,y,train_size = .2,random_state = 1)"
   ]
  },
  {
   "cell_type": "code",
   "execution_count": 93,
   "id": "919d2e59",
   "metadata": {},
   "outputs": [
    {
     "name": "stdout",
     "output_type": "stream",
     "text": [
      "classifier accuracy: 0.9138279636059954\n"
     ]
    }
   ],
   "source": [
    "# now build the tree model\n",
    "from sklearn import tree\n",
    "dtree = tree.DecisionTreeClassifier(criterion = 'gini', max_depth = 3)\n",
    "dtree = dtree.fit(X_train, y_train)\n",
    "print(\"classifier accuracy:\",dtree.score(X_test,y_test))"
   ]
  },
  {
   "cell_type": "code",
   "execution_count": 99,
   "id": "48e27c7b",
   "metadata": {},
   "outputs": [
    {
     "name": "stdout",
     "output_type": "stream",
     "text": [
      "113754\n",
      "0.08535963570511806\n"
     ]
    }
   ],
   "source": [
    "# some count testing - see what percentage of patients in remaining data are hospitilized - about %8.5\n",
    "print(len(y))\n",
    "np.count_nonzero(y)\n",
    "\n",
    "print(np.count_nonzero(y)/len(y))"
   ]
  },
  {
   "cell_type": "code",
   "execution_count": 90,
   "id": "ccecfaa0",
   "metadata": {},
   "outputs": [
    {
     "data": {
      "text/plain": [
       "[Text(0.5, 0.875, 'X[0] <= 2.5\\ngini = 0.151\\nsamples = 22750\\nvalue = [20880, 1870]'),\n",
       " Text(0.25, 0.625, 'X[0] <= 1.5\\ngini = 0.091\\nsamples = 17811\\nvalue = [16961, 850]'),\n",
       " Text(0.125, 0.375, 'X[0] <= 0.5\\ngini = 0.062\\nsamples = 12048\\nvalue = [11660, 388]'),\n",
       " Text(0.0625, 0.125, 'gini = 0.019\\nsamples = 1594\\nvalue = [1579, 15]'),\n",
       " Text(0.1875, 0.125, 'gini = 0.069\\nsamples = 10454\\nvalue = [10081, 373]'),\n",
       " Text(0.375, 0.375, 'X[5] <= 0.5\\ngini = 0.147\\nsamples = 5763\\nvalue = [5301, 462]'),\n",
       " Text(0.3125, 0.125, 'gini = 0.072\\nsamples = 1144\\nvalue = [1101, 43]'),\n",
       " Text(0.4375, 0.125, 'gini = 0.165\\nsamples = 4619\\nvalue = [4200, 419]'),\n",
       " Text(0.75, 0.625, 'X[5] <= 0.5\\ngini = 0.328\\nsamples = 4939\\nvalue = [3919, 1020]'),\n",
       " Text(0.625, 0.375, 'X[1] <= 0.5\\ngini = 0.18\\nsamples = 821\\nvalue = [739, 82]'),\n",
       " Text(0.5625, 0.125, 'gini = 0.13\\nsamples = 457\\nvalue = [425, 32]'),\n",
       " Text(0.6875, 0.125, 'gini = 0.237\\nsamples = 364\\nvalue = [314, 50]'),\n",
       " Text(0.875, 0.375, 'X[2] <= 1.5\\ngini = 0.352\\nsamples = 4118\\nvalue = [3180, 938]'),\n",
       " Text(0.8125, 0.125, 'gini = 0.0\\nsamples = 7\\nvalue = [0, 7]'),\n",
       " Text(0.9375, 0.125, 'gini = 0.35\\nsamples = 4111\\nvalue = [3180, 931]')]"
      ]
     },
     "execution_count": 90,
     "metadata": {},
     "output_type": "execute_result"
    },
    {
     "data": {
      "image/png": "[encoded data removed]",
      "text/plain": [
       "<Figure size 640x480 with 1 Axes>"
      ]
     },
     "metadata": {},
     "output_type": "display_data"
    }
   ],
   "source": [
    "# view the tree\n",
    "tree.plot_tree(dtree)"
   ]
  },
  {
   "cell_type": "markdown",
   "id": "5ca0583c",
   "metadata": {},
   "source": [
    "# Part 2: Basic, no geo Random Forest\n"
   ]
  },
  {
   "cell_type": "code",
   "execution_count": 102,
   "id": "a0d41e84",
   "metadata": {},
   "outputs": [
    {
     "name": "stdout",
     "output_type": "stream",
     "text": [
      "0.9138499406619489\n"
     ]
    }
   ],
   "source": [
    "from sklearn.ensemble import RandomForestClassifier\n",
    "from sklearn.metrics import accuracy_score\n",
    "\n",
    "forest_clf = RandomForestClassifier(n_estimators=500, max_leaf_nodes=10, random_state=42)\n",
    "forest_clf.fit(X_train, y_train)\n",
    "\n",
    "y_pred = forest_clf.predict(X_test)\n",
    "print(accuracy_score(y_test, y_pred))"
   ]
  },
  {
   "cell_type": "markdown",
   "id": "4ea9ef47",
   "metadata": {},
   "source": [
    "# Part 3: Basic Feature Selection"
   ]
  },
  {
   "cell_type": "markdown",
   "id": "fe503b7f",
   "metadata": {},
   "source": [
    "### Part 3.1: Feature viewing"
   ]
  },
  {
   "cell_type": "code",
   "execution_count": 108,
   "id": "20bf4c7c",
   "metadata": {},
   "outputs": [
    {
     "data": {
      "text/plain": [
       "array([0.75541659, 0.02640126, 0.02905312, 0.01657437, 0.01411215,\n",
       "       0.10066128, 0.        , 0.04430339, 0.01347785])"
      ]
     },
     "execution_count": 108,
     "metadata": {},
     "output_type": "execute_result"
    }
   ],
   "source": [
    "# feature importance\n",
    "from matplotlib import pyplot as plt\n",
    "forest_clf.feature_importances_"
   ]
  },
  {
   "cell_type": "code",
   "execution_count": 125,
   "id": "b9ff53ad",
   "metadata": {},
   "outputs": [
    {
     "data": {
      "text/plain": [
       "<BarContainer object of 9 artists>"
      ]
     },
     "execution_count": 125,
     "metadata": {},
     "output_type": "execute_result"
    },
    {
     "data": {
      "image/png": "[encoded data removed]",
      "text/plain": [
       "<Figure size 640x480 with 1 Axes>"
      ]
     },
     "metadata": {},
     "output_type": "display_data"
    }
   ],
   "source": [
    "# visualize the attribute importances\n",
    "\n",
    "cols = np.array(list(data_ng.columns))\n",
    "# plt.barh(cols,np.array(forest_clf.feature_importances_))\n",
    "cols = np.delete(cols,7)\n",
    "\n",
    "plt.barh(cols,np.array(forest_clf.feature_importances_))"
   ]
  },
  {
   "cell_type": "code",
   "execution_count": 126,
   "id": "60da0b5d",
   "metadata": {},
   "outputs": [
    {
     "data": {
      "text/html": [
       "<div>\n",
       "<style scoped>\n",
       "    .dataframe tbody tr th:only-of-type {\n",
       "        vertical-align: middle;\n",
       "    }\n",
       "\n",
       "    .dataframe tbody tr th {\n",
       "        vertical-align: top;\n",
       "    }\n",
       "\n",
       "    .dataframe thead th {\n",
       "        text-align: right;\n",
       "    }\n",
       "</style>\n",
       "<table border=\"1\" class=\"dataframe\">\n",
       "  <thead>\n",
       "    <tr style=\"text-align: right;\">\n",
       "      <th></th>\n",
       "      <th>age_group</th>\n",
       "      <th>race</th>\n",
       "      <th>current_status</th>\n",
       "      <th>hosp_yn</th>\n",
       "      <th>case_positive_specimen</th>\n",
       "    </tr>\n",
       "  </thead>\n",
       "  <tbody>\n",
       "    <tr>\n",
       "      <th>0</th>\n",
       "      <td>2</td>\n",
       "      <td>5</td>\n",
       "      <td>1</td>\n",
       "      <td>0</td>\n",
       "      <td>0</td>\n",
       "    </tr>\n",
       "    <tr>\n",
       "      <th>1</th>\n",
       "      <td>1</td>\n",
       "      <td>5</td>\n",
       "      <td>1</td>\n",
       "      <td>0</td>\n",
       "      <td>0</td>\n",
       "    </tr>\n",
       "    <tr>\n",
       "      <th>2</th>\n",
       "      <td>2</td>\n",
       "      <td>5</td>\n",
       "      <td>0</td>\n",
       "      <td>0</td>\n",
       "      <td>0</td>\n",
       "    </tr>\n",
       "    <tr>\n",
       "      <th>3</th>\n",
       "      <td>1</td>\n",
       "      <td>5</td>\n",
       "      <td>1</td>\n",
       "      <td>0</td>\n",
       "      <td>0</td>\n",
       "    </tr>\n",
       "    <tr>\n",
       "      <th>4</th>\n",
       "      <td>1</td>\n",
       "      <td>2</td>\n",
       "      <td>1</td>\n",
       "      <td>0</td>\n",
       "      <td>1</td>\n",
       "    </tr>\n",
       "  </tbody>\n",
       "</table>\n",
       "</div>"
      ],
      "text/plain": [
       "   age_group  race  current_status  hosp_yn  case_positive_specimen\n",
       "0          2     5               1        0                       0\n",
       "1          1     5               1        0                       0\n",
       "2          2     5               0        0                       0\n",
       "3          1     5               1        0                       0\n",
       "4          1     2               1        0                       1"
      ]
     },
     "execution_count": 126,
     "metadata": {},
     "output_type": "execute_result"
    }
   ],
   "source": [
    "# testing what happens if we only keep the top 4 attributes\n",
    "# drop sex, case_onset_interval, exposure_yn, symptom status, underlying conditions\n",
    "data_ng2 = data_ng.drop(['sex','case_onset_interval','exposure_yn','symptom_status','underlying_conditions_yn'],\n",
    "                        axis = 1, inplace = False)\n",
    "\n",
    "data_ng2.head()"
   ]
  },
  {
   "cell_type": "code",
   "execution_count": 138,
   "id": "5ffaeaa8",
   "metadata": {},
   "outputs": [
    {
     "name": "stdout",
     "output_type": "stream",
     "text": [
      "classifier accuracy: 0.9138279636059954\n"
     ]
    }
   ],
   "source": [
    "# now retest the tree\n",
    "# select X data\n",
    "X = np.array( data_ng2.drop(['hosp_yn'],axis = 1, inplace = False) )\n",
    "# X = np.array(data_ng2['age_group'])\n",
    "y = np.array(data_ng2['hosp_yn'] )\n",
    "# now split the data \n",
    "X_train, X_test, y_train, y_test = train_test_split(X,y,train_size = .2,random_state = 1)\n",
    "dtree = tree.DecisionTreeClassifier(criterion = 'gini', max_depth = 3)\n",
    "dtree = dtree.fit(X_train, y_train)\n",
    "print(\"classifier accuracy:\",dtree.score(X_test,y_test))"
   ]
  }
 ],
 "metadata": {
  "kernelspec": {
   "display_name": "Python 3.10.2 64-bit",
   "language": "python",
   "name": "python3"
  },
  "language_info": {
   "codemirror_mode": {
    "name": "ipython",
    "version": 3
   },
   "file_extension": ".py",
   "mimetype": "text/x-python",
   "name": "python",
   "nbconvert_exporter": "python",
   "pygments_lexer": "ipython3",
   "version": "3.10.2"
  },
  "vscode": {
   "interpreter": {
    "hash": "34839a5ac59008a23f943456392f6b65efe983367f00db685f422b9997d27ec9"
   }
  }
 },
 "nbformat": 4,
 "nbformat_minor": 5
}
