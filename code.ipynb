{
 "cells": [
  {
   "cell_type": "markdown",
   "id": "57dff5e3",
   "metadata": {},
   "source": [
    "### Part 1: Basic, no geography tree"
   ]
  },
  {
   "cell_type": "code",
   "execution_count": 1,
   "id": "3945709f",
   "metadata": {},
   "outputs": [],
   "source": [
    "# imports\n",
    "import pandas as pd\n",
    "from sklearn.metrics import f1_score\n"
   ]
  },
  {
   "cell_type": "code",
   "execution_count": 2,
   "id": "cad55846",
   "metadata": {},
   "outputs": [],
   "source": [
    "# getting the data\n",
    "data_ng = pd.read_csv(r\"C:\\Users\\Evan\\Desktop\\_data\\prepro_data.csv\")\n",
    "# can be modified as needed"
   ]
  },
  {
   "cell_type": "code",
   "execution_count": 3,
   "id": "38b43f81",
   "metadata": {},
   "outputs": [
    {
     "data": {
      "text/plain": [
       "pandas.core.frame.DataFrame"
      ]
     },
     "execution_count": 3,
     "metadata": {},
     "output_type": "execute_result"
    }
   ],
   "source": [
    "type(data_ng)"
   ]
  },
  {
   "cell_type": "code",
   "execution_count": 4,
   "id": "d3af6f1b",
   "metadata": {},
   "outputs": [
    {
     "data": {
      "text/html": [
       "<div>\n",
       "<style scoped>\n",
       "    .dataframe tbody tr th:only-of-type {\n",
       "        vertical-align: middle;\n",
       "    }\n",
       "\n",
       "    .dataframe tbody tr th {\n",
       "        vertical-align: top;\n",
       "    }\n",
       "\n",
       "    .dataframe thead th {\n",
       "        text-align: right;\n",
       "    }\n",
       "</style>\n",
       "<table border=\"1\" class=\"dataframe\">\n",
       "  <thead>\n",
       "    <tr style=\"text-align: right;\">\n",
       "      <th></th>\n",
       "      <th>case_month</th>\n",
       "      <th>state_fips_code</th>\n",
       "      <th>county_fips_code</th>\n",
       "      <th>age_group</th>\n",
       "      <th>sex</th>\n",
       "      <th>race</th>\n",
       "      <th>case_onset_interval</th>\n",
       "      <th>exposure_yn</th>\n",
       "      <th>current_status</th>\n",
       "      <th>symptom_status</th>\n",
       "      <th>hosp_yn</th>\n",
       "      <th>icu_yn</th>\n",
       "      <th>death_yn</th>\n",
       "      <th>case_positive_specimen</th>\n",
       "      <th>underlying_conditions_yn</th>\n",
       "    </tr>\n",
       "  </thead>\n",
       "  <tbody>\n",
       "    <tr>\n",
       "      <th>0</th>\n",
       "      <td>2020-10</td>\n",
       "      <td>49</td>\n",
       "      <td>49035.0</td>\n",
       "      <td>2</td>\n",
       "      <td>1</td>\n",
       "      <td>5</td>\n",
       "      <td>0</td>\n",
       "      <td>1</td>\n",
       "      <td>1</td>\n",
       "      <td>1</td>\n",
       "      <td>0</td>\n",
       "      <td>0</td>\n",
       "      <td>0</td>\n",
       "      <td>0</td>\n",
       "      <td>1</td>\n",
       "    </tr>\n",
       "    <tr>\n",
       "      <th>1</th>\n",
       "      <td>2021-01</td>\n",
       "      <td>49</td>\n",
       "      <td>49057.0</td>\n",
       "      <td>1</td>\n",
       "      <td>1</td>\n",
       "      <td>5</td>\n",
       "      <td>0</td>\n",
       "      <td>1</td>\n",
       "      <td>1</td>\n",
       "      <td>1</td>\n",
       "      <td>0</td>\n",
       "      <td>0</td>\n",
       "      <td>0</td>\n",
       "      <td>0</td>\n",
       "      <td>1</td>\n",
       "    </tr>\n",
       "    <tr>\n",
       "      <th>2</th>\n",
       "      <td>2021-02</td>\n",
       "      <td>22</td>\n",
       "      <td>22009.0</td>\n",
       "      <td>2</td>\n",
       "      <td>1</td>\n",
       "      <td>5</td>\n",
       "      <td>0</td>\n",
       "      <td>1</td>\n",
       "      <td>0</td>\n",
       "      <td>1</td>\n",
       "      <td>0</td>\n",
       "      <td>-1</td>\n",
       "      <td>-2</td>\n",
       "      <td>0</td>\n",
       "      <td>1</td>\n",
       "    </tr>\n",
       "    <tr>\n",
       "      <th>3</th>\n",
       "      <td>2020-11</td>\n",
       "      <td>42</td>\n",
       "      <td>42025.0</td>\n",
       "      <td>1</td>\n",
       "      <td>1</td>\n",
       "      <td>5</td>\n",
       "      <td>0</td>\n",
       "      <td>1</td>\n",
       "      <td>1</td>\n",
       "      <td>1</td>\n",
       "      <td>0</td>\n",
       "      <td>0</td>\n",
       "      <td>-3</td>\n",
       "      <td>0</td>\n",
       "      <td>1</td>\n",
       "    </tr>\n",
       "    <tr>\n",
       "      <th>4</th>\n",
       "      <td>2020-07</td>\n",
       "      <td>42</td>\n",
       "      <td>42003.0</td>\n",
       "      <td>1</td>\n",
       "      <td>1</td>\n",
       "      <td>2</td>\n",
       "      <td>0</td>\n",
       "      <td>1</td>\n",
       "      <td>1</td>\n",
       "      <td>1</td>\n",
       "      <td>0</td>\n",
       "      <td>0</td>\n",
       "      <td>0</td>\n",
       "      <td>1</td>\n",
       "      <td>1</td>\n",
       "    </tr>\n",
       "  </tbody>\n",
       "</table>\n",
       "</div>"
      ],
      "text/plain": [
       "  case_month  state_fips_code  county_fips_code  age_group  sex  race  \\\n",
       "0    2020-10               49           49035.0          2    1     5   \n",
       "1    2021-01               49           49057.0          1    1     5   \n",
       "2    2021-02               22           22009.0          2    1     5   \n",
       "3    2020-11               42           42025.0          1    1     5   \n",
       "4    2020-07               42           42003.0          1    1     2   \n",
       "\n",
       "   case_onset_interval  exposure_yn  current_status  symptom_status  hosp_yn  \\\n",
       "0                    0            1               1               1        0   \n",
       "1                    0            1               1               1        0   \n",
       "2                    0            1               0               1        0   \n",
       "3                    0            1               1               1        0   \n",
       "4                    0            1               1               1        0   \n",
       "\n",
       "   icu_yn  death_yn  case_positive_specimen  underlying_conditions_yn  \n",
       "0       0         0                       0                         1  \n",
       "1       0         0                       0                         1  \n",
       "2      -1        -2                       0                         1  \n",
       "3       0        -3                       0                         1  \n",
       "4       0         0                       1                         1  "
      ]
     },
     "execution_count": 4,
     "metadata": {},
     "output_type": "execute_result"
    }
   ],
   "source": [
    "data_ng.head()"
   ]
  },
  {
   "cell_type": "code",
   "execution_count": 5,
   "id": "6d1edb82",
   "metadata": {},
   "outputs": [],
   "source": [
    "# for preliminary reasons, I will drop date, county/area info, and icu/death info\n",
    "data_ng.drop(['case_month','state_fips_code','county_fips_code','icu_yn','death_yn'], axis = 1, inplace = True)"
   ]
  },
  {
   "cell_type": "code",
   "execution_count": 6,
   "id": "30296995",
   "metadata": {},
   "outputs": [
    {
     "data": {
      "text/html": [
       "<div>\n",
       "<style scoped>\n",
       "    .dataframe tbody tr th:only-of-type {\n",
       "        vertical-align: middle;\n",
       "    }\n",
       "\n",
       "    .dataframe tbody tr th {\n",
       "        vertical-align: top;\n",
       "    }\n",
       "\n",
       "    .dataframe thead th {\n",
       "        text-align: right;\n",
       "    }\n",
       "</style>\n",
       "<table border=\"1\" class=\"dataframe\">\n",
       "  <thead>\n",
       "    <tr style=\"text-align: right;\">\n",
       "      <th></th>\n",
       "      <th>age_group</th>\n",
       "      <th>sex</th>\n",
       "      <th>race</th>\n",
       "      <th>case_onset_interval</th>\n",
       "      <th>exposure_yn</th>\n",
       "      <th>current_status</th>\n",
       "      <th>symptom_status</th>\n",
       "      <th>hosp_yn</th>\n",
       "      <th>case_positive_specimen</th>\n",
       "      <th>underlying_conditions_yn</th>\n",
       "    </tr>\n",
       "  </thead>\n",
       "  <tbody>\n",
       "    <tr>\n",
       "      <th>0</th>\n",
       "      <td>2</td>\n",
       "      <td>1</td>\n",
       "      <td>5</td>\n",
       "      <td>0</td>\n",
       "      <td>1</td>\n",
       "      <td>1</td>\n",
       "      <td>1</td>\n",
       "      <td>0</td>\n",
       "      <td>0</td>\n",
       "      <td>1</td>\n",
       "    </tr>\n",
       "    <tr>\n",
       "      <th>1</th>\n",
       "      <td>1</td>\n",
       "      <td>1</td>\n",
       "      <td>5</td>\n",
       "      <td>0</td>\n",
       "      <td>1</td>\n",
       "      <td>1</td>\n",
       "      <td>1</td>\n",
       "      <td>0</td>\n",
       "      <td>0</td>\n",
       "      <td>1</td>\n",
       "    </tr>\n",
       "    <tr>\n",
       "      <th>2</th>\n",
       "      <td>2</td>\n",
       "      <td>1</td>\n",
       "      <td>5</td>\n",
       "      <td>0</td>\n",
       "      <td>1</td>\n",
       "      <td>0</td>\n",
       "      <td>1</td>\n",
       "      <td>0</td>\n",
       "      <td>0</td>\n",
       "      <td>1</td>\n",
       "    </tr>\n",
       "    <tr>\n",
       "      <th>3</th>\n",
       "      <td>1</td>\n",
       "      <td>1</td>\n",
       "      <td>5</td>\n",
       "      <td>0</td>\n",
       "      <td>1</td>\n",
       "      <td>1</td>\n",
       "      <td>1</td>\n",
       "      <td>0</td>\n",
       "      <td>0</td>\n",
       "      <td>1</td>\n",
       "    </tr>\n",
       "    <tr>\n",
       "      <th>4</th>\n",
       "      <td>1</td>\n",
       "      <td>1</td>\n",
       "      <td>2</td>\n",
       "      <td>0</td>\n",
       "      <td>1</td>\n",
       "      <td>1</td>\n",
       "      <td>1</td>\n",
       "      <td>0</td>\n",
       "      <td>1</td>\n",
       "      <td>1</td>\n",
       "    </tr>\n",
       "  </tbody>\n",
       "</table>\n",
       "</div>"
      ],
      "text/plain": [
       "   age_group  sex  race  case_onset_interval  exposure_yn  current_status  \\\n",
       "0          2    1     5                    0            1               1   \n",
       "1          1    1     5                    0            1               1   \n",
       "2          2    1     5                    0            1               0   \n",
       "3          1    1     5                    0            1               1   \n",
       "4          1    1     2                    0            1               1   \n",
       "\n",
       "   symptom_status  hosp_yn  case_positive_specimen  underlying_conditions_yn  \n",
       "0               1        0                       0                         1  \n",
       "1               1        0                       0                         1  \n",
       "2               1        0                       0                         1  \n",
       "3               1        0                       0                         1  \n",
       "4               1        0                       1                         1  "
      ]
     },
     "execution_count": 6,
     "metadata": {},
     "output_type": "execute_result"
    }
   ],
   "source": [
    "data_ng.head()"
   ]
  },
  {
   "cell_type": "code",
   "execution_count": 7,
   "id": "d46bbf72",
   "metadata": {},
   "outputs": [
    {
     "data": {
      "text/plain": [
       "(123111, 10)"
      ]
     },
     "execution_count": 7,
     "metadata": {},
     "output_type": "execute_result"
    }
   ],
   "source": [
    "data_ng.shape"
   ]
  },
  {
   "cell_type": "code",
   "execution_count": 8,
   "id": "16adae78",
   "metadata": {},
   "outputs": [],
   "source": [
    "# dropping unkown and missing hosp data - where hosp = -1 or -2\n",
    "data_ng.drop(data_ng[(data_ng['hosp_yn'] == -1) | (data_ng['hosp_yn'] == -2)].index, inplace = True)"
   ]
  },
  {
   "cell_type": "code",
   "execution_count": 9,
   "id": "ca792b32",
   "metadata": {},
   "outputs": [
    {
     "data": {
      "text/plain": [
       "(113754, 10)"
      ]
     },
     "execution_count": 9,
     "metadata": {},
     "output_type": "execute_result"
    }
   ],
   "source": [
    "data_ng.shape"
   ]
  },
  {
   "cell_type": "code",
   "execution_count": 10,
   "id": "e922c3d2",
   "metadata": {},
   "outputs": [],
   "source": [
    "# now that all of hosp_yn is 1 or 0, I will do a prelim. tree model \n",
    "import numpy as np\n",
    "from sklearn.tree import DecisionTreeClassifier\n",
    "from sklearn.model_selection import train_test_split\n",
    "\n",
    "# select X data\n",
    "X = np.array( data_ng.drop(['hosp_yn'],axis = 1, inplace = False) )\n",
    "y = np.array (data_ng['hosp_yn'] )\n",
    "\n",
    "# for later use in sub-sampling\n",
    "Xu = np.array( data_ng.drop(['hosp_yn'],axis = 1, inplace = False) )\n",
    "yu = np.array (data_ng['hosp_yn'] )"
   ]
  },
  {
   "cell_type": "code",
   "execution_count": null,
   "id": "02a0f475",
   "metadata": {},
   "outputs": [],
   "source": []
  },
  {
   "cell_type": "code",
   "execution_count": 11,
   "id": "de998414",
   "metadata": {},
   "outputs": [],
   "source": [
    "# now split the data \n",
    "X_train, X_test, y_train, y_test = train_test_split(X,y,train_size = .2,random_state = 1)"
   ]
  },
  {
   "cell_type": "code",
   "execution_count": 12,
   "id": "60870396",
   "metadata": {},
   "outputs": [
    {
     "name": "stdout",
     "output_type": "stream",
     "text": [
      "classifier accuracy: 0.9138499406619489\n"
     ]
    }
   ],
   "source": [
    "# now build the tree model\n",
    "from sklearn import tree\n",
    "dtree = tree.DecisionTreeClassifier(criterion = 'gini', max_depth = 2)\n",
    "dtree = dtree.fit(X_train, y_train)\n",
    "print(\"classifier accuracy:\",dtree.score(X_test,y_test))"
   ]
  },
  {
   "cell_type": "code",
   "execution_count": 13,
   "id": "9ea57a4c",
   "metadata": {},
   "outputs": [
    {
     "name": "stdout",
     "output_type": "stream",
     "text": [
      "113754\n",
      "0.08535963570511806\n"
     ]
    }
   ],
   "source": [
    "# some count testing - see what percentage of patients in remaining data are hospitilized - about %8.5\n",
    "print(len(y))\n",
    "np.count_nonzero(y)\n",
    "\n",
    "print(np.count_nonzero(y)/len(y))"
   ]
  },
  {
   "cell_type": "code",
   "execution_count": 14,
   "id": "60453097",
   "metadata": {},
   "outputs": [
    {
     "data": {
      "text/plain": [
       "[Text(0.5, 0.8333333333333334, 'X[0] <= 2.5\\ngini = 0.151\\nsamples = 22750\\nvalue = [20880, 1870]'),\n",
       " Text(0.25, 0.5, 'X[0] <= 1.5\\ngini = 0.091\\nsamples = 17811\\nvalue = [16961, 850]'),\n",
       " Text(0.125, 0.16666666666666666, 'gini = 0.062\\nsamples = 12048\\nvalue = [11660, 388]'),\n",
       " Text(0.375, 0.16666666666666666, 'gini = 0.147\\nsamples = 5763\\nvalue = [5301, 462]'),\n",
       " Text(0.75, 0.5, 'X[5] <= 0.5\\ngini = 0.328\\nsamples = 4939\\nvalue = [3919, 1020]'),\n",
       " Text(0.625, 0.16666666666666666, 'gini = 0.18\\nsamples = 821\\nvalue = [739, 82]'),\n",
       " Text(0.875, 0.16666666666666666, 'gini = 0.352\\nsamples = 4118\\nvalue = [3180, 938]')]"
      ]
     },
     "execution_count": 14,
     "metadata": {},
     "output_type": "execute_result"
    },
    {
     "data": {
      "image/png": "[encoded data removed]",
      "text/plain": [
       "<Figure size 640x480 with 1 Axes>"
      ]
     },
     "metadata": {},
     "output_type": "display_data"
    }
   ],
   "source": [
    "# view the tree\n",
    "tree.plot_tree(dtree)"
   ]
  },
  {
   "cell_type": "markdown",
   "id": "4471eb2c",
   "metadata": {},
   "source": [
    "# Part 2: Basic, no geo Random Forest\n"
   ]
  },
  {
   "cell_type": "code",
   "execution_count": 15,
   "id": "4bc25af3",
   "metadata": {},
   "outputs": [
    {
     "name": "stdout",
     "output_type": "stream",
     "text": [
      "0.9138499406619489\n"
     ]
    }
   ],
   "source": [
    "from sklearn.ensemble import RandomForestClassifier\n",
    "from sklearn.metrics import accuracy_score\n",
    "\n",
    "forest_clf = RandomForestClassifier(n_estimators=100, max_leaf_nodes=10, random_state=42)\n",
    "forest_clf.fit(X_train, y_train)\n",
    "\n",
    "y_pred = forest_clf.predict(X_test)\n",
    "print(accuracy_score(y_test, y_pred))"
   ]
  },
  {
   "cell_type": "code",
   "execution_count": 16,
   "id": "224a5f70",
   "metadata": {},
   "outputs": [
    {
     "name": "stdout",
     "output_type": "stream",
     "text": [
      "[0]\n"
     ]
    }
   ],
   "source": [
    "print( np.unique( y_pred ) )\n",
    "# so we can see that there is some error in using this data set as-is,\n",
    "# the imbalance causes the prediction to always predict 0"
   ]
  },
  {
   "cell_type": "markdown",
   "id": "96d35c46",
   "metadata": {},
   "source": [
    "# Part 3: Basic Feature Selection"
   ]
  },
  {
   "cell_type": "markdown",
   "id": "5ae08030",
   "metadata": {},
   "source": [
    "### Part 3.1: Feature viewing"
   ]
  },
  {
   "cell_type": "code",
   "execution_count": 17,
   "id": "12116349",
   "metadata": {},
   "outputs": [
    {
     "data": {
      "text/plain": [
       "array([0.76186203, 0.02945614, 0.02862214, 0.01654309, 0.01479004,\n",
       "       0.09241745, 0.        , 0.04349937, 0.01280973])"
      ]
     },
     "execution_count": 17,
     "metadata": {},
     "output_type": "execute_result"
    }
   ],
   "source": [
    "# feature importance\n",
    "from matplotlib import pyplot as plt\n",
    "forest_clf.feature_importances_"
   ]
  },
  {
   "cell_type": "code",
   "execution_count": 18,
   "id": "0ef2bb05",
   "metadata": {},
   "outputs": [
    {
     "data": {
      "text/plain": [
       "<BarContainer object of 9 artists>"
      ]
     },
     "execution_count": 18,
     "metadata": {},
     "output_type": "execute_result"
    },
    {
     "data": {
      "image/png": "[encoded data removed]",
      "text/plain": [
       "<Figure size 640x480 with 1 Axes>"
      ]
     },
     "metadata": {},
     "output_type": "display_data"
    }
   ],
   "source": [
    "# visualize the attribute importances\n",
    "\n",
    "cols = np.array(list(data_ng.columns))\n",
    "# plt.barh(cols,np.array(forest_clf.feature_importances_))\n",
    "cols = np.delete(cols,7)\n",
    "\n",
    "plt.barh(cols,np.array(forest_clf.feature_importances_))"
   ]
  },
  {
   "cell_type": "code",
   "execution_count": 19,
   "id": "f4504936",
   "metadata": {},
   "outputs": [
    {
     "data": {
      "text/html": [
       "<div>\n",
       "<style scoped>\n",
       "    .dataframe tbody tr th:only-of-type {\n",
       "        vertical-align: middle;\n",
       "    }\n",
       "\n",
       "    .dataframe tbody tr th {\n",
       "        vertical-align: top;\n",
       "    }\n",
       "\n",
       "    .dataframe thead th {\n",
       "        text-align: right;\n",
       "    }\n",
       "</style>\n",
       "<table border=\"1\" class=\"dataframe\">\n",
       "  <thead>\n",
       "    <tr style=\"text-align: right;\">\n",
       "      <th></th>\n",
       "      <th>age_group</th>\n",
       "      <th>race</th>\n",
       "      <th>current_status</th>\n",
       "      <th>hosp_yn</th>\n",
       "      <th>case_positive_specimen</th>\n",
       "    </tr>\n",
       "  </thead>\n",
       "  <tbody>\n",
       "    <tr>\n",
       "      <th>0</th>\n",
       "      <td>2</td>\n",
       "      <td>5</td>\n",
       "      <td>1</td>\n",
       "      <td>0</td>\n",
       "      <td>0</td>\n",
       "    </tr>\n",
       "    <tr>\n",
       "      <th>1</th>\n",
       "      <td>1</td>\n",
       "      <td>5</td>\n",
       "      <td>1</td>\n",
       "      <td>0</td>\n",
       "      <td>0</td>\n",
       "    </tr>\n",
       "    <tr>\n",
       "      <th>2</th>\n",
       "      <td>2</td>\n",
       "      <td>5</td>\n",
       "      <td>0</td>\n",
       "      <td>0</td>\n",
       "      <td>0</td>\n",
       "    </tr>\n",
       "    <tr>\n",
       "      <th>3</th>\n",
       "      <td>1</td>\n",
       "      <td>5</td>\n",
       "      <td>1</td>\n",
       "      <td>0</td>\n",
       "      <td>0</td>\n",
       "    </tr>\n",
       "    <tr>\n",
       "      <th>4</th>\n",
       "      <td>1</td>\n",
       "      <td>2</td>\n",
       "      <td>1</td>\n",
       "      <td>0</td>\n",
       "      <td>1</td>\n",
       "    </tr>\n",
       "  </tbody>\n",
       "</table>\n",
       "</div>"
      ],
      "text/plain": [
       "   age_group  race  current_status  hosp_yn  case_positive_specimen\n",
       "0          2     5               1        0                       0\n",
       "1          1     5               1        0                       0\n",
       "2          2     5               0        0                       0\n",
       "3          1     5               1        0                       0\n",
       "4          1     2               1        0                       1"
      ]
     },
     "execution_count": 19,
     "metadata": {},
     "output_type": "execute_result"
    }
   ],
   "source": [
    "# testing what happens if we only keep the top 4 attributes\n",
    "# drop sex, case_onset_interval, exposure_yn, symptom status, underlying conditions\n",
    "data_ng2 = data_ng.drop(['sex','case_onset_interval','exposure_yn','symptom_status','underlying_conditions_yn'],\n",
    "                        axis = 1, inplace = False)\n",
    "\n",
    "data_ng2.head()"
   ]
  },
  {
   "cell_type": "code",
   "execution_count": 20,
   "id": "e31dc847",
   "metadata": {},
   "outputs": [
    {
     "name": "stdout",
     "output_type": "stream",
     "text": [
      "classifier accuracy: 0.9138499406619489\n"
     ]
    },
    {
     "data": {
      "text/plain": [
       "[Text(0.5, 0.75, 'X[0] <= 2.5\\ngini = 0.151\\nsamples = 22750\\nvalue = [20880, 1870]'),\n",
       " Text(0.25, 0.25, 'gini = 0.091\\nsamples = 17811\\nvalue = [16961, 850]'),\n",
       " Text(0.75, 0.25, 'gini = 0.328\\nsamples = 4939\\nvalue = [3919, 1020]')]"
      ]
     },
     "execution_count": 20,
     "metadata": {},
     "output_type": "execute_result"
    },
    {
     "data": {
      "image/png": "[encoded data removed]",
      "text/plain": [
       "<Figure size 640x480 with 1 Axes>"
      ]
     },
     "metadata": {},
     "output_type": "display_data"
    }
   ],
   "source": [
    "# now retest the tree\n",
    "# select X data\n",
    "X = np.array( data_ng2.drop(['hosp_yn'],axis = 1, inplace = False) )\n",
    "# X = np.array(data_ng2['age_group'])\n",
    "y = np.array(data_ng2['hosp_yn'] )\n",
    "# now split the data \n",
    "X_train, X_test, y_train, y_test = train_test_split(X,y,train_size = .2,random_state = 1)\n",
    "dtree = tree.DecisionTreeClassifier(criterion = 'gini', max_depth = 1)\n",
    "dtree = dtree.fit(X_train, y_train)\n",
    "print(\"classifier accuracy:\",dtree.score(X_test,y_test))\n",
    "tree.plot_tree(dtree)"
   ]
  },
  {
   "cell_type": "markdown",
   "id": "285eb247",
   "metadata": {},
   "source": [
    "# Part 4: Sub-Sampling testing"
   ]
  },
  {
   "cell_type": "code",
   "execution_count": 21,
   "id": "81b967f6",
   "metadata": {},
   "outputs": [
    {
     "data": {
      "text/plain": [
       "(113754, 10)"
      ]
     },
     "execution_count": 21,
     "metadata": {},
     "output_type": "execute_result"
    }
   ],
   "source": [
    "# We can see that the split between the hospitalization rates is causing some bad behavior in the model\n",
    "# so let's try some sampling\n",
    "data_ng.shape"
   ]
  },
  {
   "cell_type": "code",
   "execution_count": 22,
   "id": "d82807a9",
   "metadata": {},
   "outputs": [
    {
     "data": {
      "text/plain": [
       "(9710, 10)"
      ]
     },
     "execution_count": 22,
     "metadata": {},
     "output_type": "execute_result"
    }
   ],
   "source": [
    "# misc. testing\n",
    "data_hosp = data_ng.drop(data_ng[data_ng['hosp_yn'] == 0].index, inplace = False)\n",
    "data_hosp.shape"
   ]
  },
  {
   "cell_type": "code",
   "execution_count": 23,
   "id": "60bb14a0",
   "metadata": {},
   "outputs": [
    {
     "name": "stdout",
     "output_type": "stream",
     "text": [
      "(113754, 4)\n",
      "(113754,)\n"
     ]
    }
   ],
   "source": [
    "print(X.shape)\n",
    "print(y.shape)"
   ]
  },
  {
   "cell_type": "markdown",
   "id": "610934bc",
   "metadata": {},
   "source": [
    "#### Part 4.1: Undersampling"
   ]
  },
  {
   "cell_type": "code",
   "execution_count": 24,
   "id": "09faf571",
   "metadata": {},
   "outputs": [
    {
     "name": "stdout",
     "output_type": "stream",
     "text": [
      "(19420, 4)\n",
      "(19420,)\n",
      "classifier accuracy: 0.670764675592173\n"
     ]
    }
   ],
   "source": [
    "from imblearn.under_sampling import RandomUnderSampler\n",
    "\n",
    "rus = RandomUnderSampler(random_state=420, replacement=True)\n",
    "X_rus, y_rus = rus.fit_resample(X,y)\n",
    "\n",
    "# X_rus, y_rus = rus.fit_resample(Xu,yu)\n",
    "\n",
    "print(X_rus.shape)\n",
    "print(y_rus.shape)\n",
    "\n",
    "# just attempt a tree with this \n",
    "# now split the data \n",
    "X_train_rus, X_test_rus, y_train_rus, y_test_rus = train_test_split(X_rus,y_rus,train_size = .2,random_state = 1)\n",
    "\n",
    "dtree = tree.DecisionTreeClassifier(criterion = 'gini', max_depth = 1)\n",
    "dtree = dtree.fit(X_train_rus, y_train_rus)\n",
    "print(\"classifier accuracy:\",dtree.score(X_test_rus,y_test_rus))"
   ]
  },
  {
   "cell_type": "code",
   "execution_count": 25,
   "id": "849de293",
   "metadata": {},
   "outputs": [
    {
     "data": {
      "text/plain": [
       "[Text(0.5, 0.75, 'X[0] <= 2.5\\ngini = 0.5\\nsamples = 3884\\nvalue = [2003, 1881]'),\n",
       " Text(0.25, 0.25, 'gini = 0.451\\nsamples = 2512\\nvalue = [1649, 863]'),\n",
       " Text(0.75, 0.25, 'gini = 0.383\\nsamples = 1372\\nvalue = [354, 1018]')]"
      ]
     },
     "execution_count": 25,
     "metadata": {},
     "output_type": "execute_result"
    },
    {
     "data": {
      "image/png": "[encoded data removed]",
      "text/plain": [
       "<Figure size 640x480 with 1 Axes>"
      ]
     },
     "metadata": {},
     "output_type": "display_data"
    }
   ],
   "source": [
    "tree.plot_tree(dtree)"
   ]
  },
  {
   "cell_type": "code",
   "execution_count": 26,
   "id": "a6e8b440",
   "metadata": {},
   "outputs": [
    {
     "name": "stdout",
     "output_type": "stream",
     "text": [
      "0.6866632337796087\n"
     ]
    }
   ],
   "source": [
    "# random Forest with this data\n",
    "forest_clf = RandomForestClassifier(n_estimators=100, max_leaf_nodes=10, random_state=42)\n",
    "forest_clf.fit(X_train_rus, y_train_rus)\n",
    "\n",
    "y_pred = forest_clf.predict(X_test_rus)\n",
    "print(accuracy_score(y_test_rus, y_pred))"
   ]
  },
  {
   "cell_type": "markdown",
   "id": "5ef03afd",
   "metadata": {},
   "source": [
    "#### Part 4.2: Oversampling"
   ]
  },
  {
   "cell_type": "code",
   "execution_count": 27,
   "id": "be330477",
   "metadata": {},
   "outputs": [
    {
     "name": "stdout",
     "output_type": "stream",
     "text": [
      "(208088, 4)\n",
      "(208088,)\n",
      "classifier accuracy: 0.6747481543331871\n"
     ]
    }
   ],
   "source": [
    "from imblearn.over_sampling import RandomOverSampler\n",
    "ros = RandomOverSampler(random_state=42)\n",
    "X_ros, y_ros = ros.fit_resample(X,y)\n",
    "\n",
    "print(X_ros.shape)\n",
    "print(y_ros.shape)\n",
    "\n",
    "# just attempt a tree with this \n",
    "# now split the data \n",
    "X_train_ros, X_test_ros, y_train_ros, y_test_ros = train_test_split(X_ros,y_ros,train_size = .2,random_state = 1)\n",
    "\n",
    "dtree = tree.DecisionTreeClassifier(criterion = 'gini', max_depth = 1)\n",
    "dtree = dtree.fit(X_train_ros, y_train_ros)\n",
    "print(\"classifier accuracy:\",dtree.score(X_test_ros,y_test_ros))"
   ]
  },
  {
   "cell_type": "code",
   "execution_count": 28,
   "id": "b6a20653",
   "metadata": {},
   "outputs": [
    {
     "data": {
      "text/plain": [
       "[Text(0.5, 0.75, 'X[0] <= 2.5\\ngini = 0.5\\nsamples = 41617\\nvalue = [20898, 20719]'),\n",
       " Text(0.25, 0.25, 'gini = 0.461\\nsamples = 26542\\nvalue = [16962, 9580]'),\n",
       " Text(0.75, 0.25, 'gini = 0.386\\nsamples = 15075\\nvalue = [3936, 11139]')]"
      ]
     },
     "execution_count": 28,
     "metadata": {},
     "output_type": "execute_result"
    },
    {
     "data": {
      "image/png": "[encoded data removed]",
      "text/plain": [
       "<Figure size 640x480 with 1 Axes>"
      ]
     },
     "metadata": {},
     "output_type": "display_data"
    }
   ],
   "source": [
    "tree.plot_tree(dtree)"
   ]
  },
  {
   "cell_type": "code",
   "execution_count": 29,
   "id": "6ab01380",
   "metadata": {},
   "outputs": [
    {
     "name": "stdout",
     "output_type": "stream",
     "text": [
      "0.6923007610935238\n"
     ]
    }
   ],
   "source": [
    "# random Forest with this data\n",
    "forest_clf = RandomForestClassifier(n_estimators=100, max_leaf_nodes=10, random_state=42)\n",
    "forest_clf.fit(X_train_ros, y_train_ros)\n",
    "\n",
    "y_pred = forest_clf.predict(X_test_ros)\n",
    "print(accuracy_score(y_test_ros, y_pred))"
   ]
  },
  {
   "cell_type": "markdown",
   "id": "bf54ee62",
   "metadata": {},
   "source": [
    "So it seems subsampling does not help the model find a better fit, I think this may be attributed to the fact \n",
    "that the tree not only has a dominating class, but within that class there is a dominating attribute, as well, and I am unsure if the over/under sampling picked up on the dominance of age group.\n",
    "This may lead to some interesting behavior; interesting but perhaps not good for our case. \n",
    "\n",
    "I think with the nature of our data that a probability based approach may be better: outputting the probability of hospitilization may prove more useful and attainable:\n",
    "\n",
    "EX: What is the probability of hospitilization given the spread of attributes, then move that towards including geographical data"
   ]
  },
  {
   "cell_type": "markdown",
   "id": "3eaa0915",
   "metadata": {},
   "source": [
    "# Part 5: NBC (Maybe)"
   ]
  },
  {
   "cell_type": "code",
   "execution_count": null,
   "id": "13a19eeb",
   "metadata": {},
   "outputs": [],
   "source": []
  },
  {
   "cell_type": "markdown",
   "id": "e6725615",
   "metadata": {},
   "source": [
    "# Part X: Some Data Investigation:"
   ]
  },
  {
   "cell_type": "code",
   "execution_count": 30,
   "id": "36db6781",
   "metadata": {},
   "outputs": [],
   "source": [
    "# preview the data\n",
    "data_ng.head()\n",
    "\n",
    "# drop everything except the two most powerfull attributes: age_group and current status\n",
    "X_vis = np.array( data_ng.drop(['hosp_yn','sex','race','case_onset_interval','exposure_yn',\n",
    "                               'symptom_status','underlying_conditions_yn','current_status'],axis = 1, inplace = False) )\n",
    "y_vis = np.array (data_ng['hosp_yn'] )"
   ]
  },
  {
   "cell_type": "code",
   "execution_count": 31,
   "id": "14febd0d",
   "metadata": {},
   "outputs": [],
   "source": [
    "# split data into hosp and not\n",
    "hosp = X_vis[np.where(y_vis == 1)]\n",
    "no_hosp = X_vis[np.where(y_vis == 0)]"
   ]
  },
  {
   "cell_type": "code",
   "execution_count": 32,
   "id": "f5ca17fa",
   "metadata": {},
   "outputs": [
    {
     "data": {
      "text/plain": [
       "array([[0, 0],\n",
       "       [3, 0],\n",
       "       [3, 0],\n",
       "       ...,\n",
       "       [1, 1],\n",
       "       [3, 1],\n",
       "       [3, 2]], dtype=int64)"
      ]
     },
     "execution_count": 32,
     "metadata": {},
     "output_type": "execute_result"
    }
   ],
   "source": [
    "hosp"
   ]
  },
  {
   "cell_type": "code",
   "execution_count": 33,
   "id": "a09156e4",
   "metadata": {},
   "outputs": [
    {
     "data": {
      "text/plain": [
       "9710"
      ]
     },
     "execution_count": 33,
     "metadata": {},
     "output_type": "execute_result"
    }
   ],
   "source": [
    "hosp[:,0].size"
   ]
  },
  {
   "cell_type": "code",
   "execution_count": 34,
   "id": "753e7994",
   "metadata": {},
   "outputs": [
    {
     "name": "stdout",
     "output_type": "stream",
     "text": [
      "122\n",
      "0.012564366632337795\n",
      "1902\n",
      "0.19588053553038104\n",
      "2488\n",
      "0.25623069001029863\n",
      "5198\n",
      "0.5353244078269825\n"
     ]
    }
   ],
   "source": [
    "age_zero = np.count_nonzero(hosp[:,0] == 0)\n",
    "print(age_zero)\n",
    "print(age_zero/hosp[:,0].size)\n",
    "age_1 = np.count_nonzero(hosp[:,0] == 1)\n",
    "print(age_1)\n",
    "print(age_1/hosp[:,0].size)\n",
    "age_2 = np.count_nonzero(hosp[:,0] == 2)\n",
    "print(age_2)\n",
    "print(age_2/hosp[:,0].size)\n",
    "age_3 = np.count_nonzero(hosp[:,0] == 3)\n",
    "print(age_3)\n",
    "print(age_3/hosp[:,0].size)"
   ]
  },
  {
   "cell_type": "code",
   "execution_count": 35,
   "id": "7c258a5b",
   "metadata": {},
   "outputs": [
    {
     "name": "stdout",
     "output_type": "stream",
     "text": [
      "75808\n",
      "0.7286148168082734\n",
      "24480\n",
      "0.23528507170043444\n",
      "2028\n",
      "0.01949175348890854\n",
      "347\n",
      "0.0033351274460805044\n"
     ]
    }
   ],
   "source": [
    "age_zero = np.count_nonzero(no_hosp[:,1] == 0)\n",
    "print(age_zero)\n",
    "print(age_zero/no_hosp[:,1].size)\n",
    "age_1 = np.count_nonzero(no_hosp[:,1] == 1)\n",
    "print(age_1)\n",
    "print(age_1/no_hosp[:,1].size)\n",
    "age_2 = np.count_nonzero(no_hosp[:,1] == 2)\n",
    "print(age_2)\n",
    "print(age_2/no_hosp[:,1].size)\n",
    "age_3 = np.count_nonzero(no_hosp[:,1] == 3)\n",
    "print(age_3)\n",
    "print(age_3/no_hosp[:,1].size)"
   ]
  },
  {
   "cell_type": "code",
   "execution_count": 36,
   "id": "82369040",
   "metadata": {},
   "outputs": [],
   "source": [
    "X_rus2 = np.delete(X_rus, [1,2,3],1)\n",
    "# print(X_rus2)\n",
    "# print(y_rus)\n",
    "hosp = X_rus2[np.where(y_rus == 1)]\n",
    "no_hosp = X_rus2[np.where(y_rus == 0)]"
   ]
  },
  {
   "cell_type": "code",
   "execution_count": 37,
   "id": "13ca57de",
   "metadata": {},
   "outputs": [
    {
     "name": "stdout",
     "output_type": "stream",
     "text": [
      "(9710, 1)\n",
      "(9710, 1)\n"
     ]
    }
   ],
   "source": [
    "print(hosp.shape)\n",
    "print(no_hosp.shape)"
   ]
  },
  {
   "cell_type": "code",
   "execution_count": 38,
   "id": "f4c56bf1",
   "metadata": {},
   "outputs": [
    {
     "name": "stdout",
     "output_type": "stream",
     "text": [
      "122\n",
      "0.012564366632337795\n",
      "1902\n",
      "0.19588053553038104\n",
      "2488\n",
      "0.25623069001029863\n",
      "5198\n",
      "0.5353244078269825\n"
     ]
    }
   ],
   "source": [
    "age_zero = np.count_nonzero(hosp[:,0] == 0)\n",
    "print(age_zero)\n",
    "print(age_zero/hosp[:,0].size)\n",
    "age_1 = np.count_nonzero(hosp[:,0] == 1)\n",
    "print(age_1)\n",
    "print(age_1/hosp[:,0].size)\n",
    "age_2 = np.count_nonzero(hosp[:,0] == 2)\n",
    "print(age_2)\n",
    "print(age_2/hosp[:,0].size)\n",
    "age_3 = np.count_nonzero(hosp[:,0] == 3)\n",
    "print(age_3)\n",
    "print(age_3/hosp[:,0].size)"
   ]
  },
  {
   "cell_type": "code",
   "execution_count": 39,
   "id": "21ab3ce8",
   "metadata": {},
   "outputs": [
    {
     "name": "stdout",
     "output_type": "stream",
     "text": [
      "789\n",
      "0.08125643666323377\n",
      "4635\n",
      "0.47734294541709577\n",
      "2466\n",
      "0.2539649845520082\n",
      "1820\n",
      "0.1874356333676622\n"
     ]
    }
   ],
   "source": [
    "age_zero = np.count_nonzero(no_hosp[:,0] == 0)\n",
    "print(age_zero)\n",
    "print(age_zero/no_hosp[:,0].size)\n",
    "age_1 = np.count_nonzero(no_hosp[:,0] == 1)\n",
    "print(age_1)\n",
    "print(age_1/no_hosp[:,0].size)\n",
    "age_2 = np.count_nonzero(no_hosp[:,0] == 2)\n",
    "print(age_2)\n",
    "print(age_2/no_hosp[:,0].size)\n",
    "age_3 = np.count_nonzero(no_hosp[:,0] == 3)\n",
    "print(age_3)\n",
    "print(age_3/no_hosp[:,0].size)"
   ]
  },
  {
   "cell_type": "markdown",
   "id": "6871f9bb",
   "metadata": {},
   "source": [
    "We can see the differences in distribution of the age groups that the random undersampling did not have the same age distribution in percentages as in the real data."
   ]
  }
 ],
 "metadata": {
  "kernelspec": {
   "display_name": "Python 3 (ipykernel)",
   "language": "python",
   "name": "python3"
  },
  "language_info": {
   "codemirror_mode": {
    "name": "ipython",
    "version": 3
   },
   "file_extension": ".py",
   "mimetype": "text/x-python",
   "name": "python",
   "nbconvert_exporter": "python",
   "pygments_lexer": "ipython3",
   "version": "3.9.15"
  }
 },
 "nbformat": 4,
 "nbformat_minor": 5
}
